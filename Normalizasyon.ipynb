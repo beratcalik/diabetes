{
 "cells": [
  {
   "cell_type": "code",
   "execution_count": 4,
   "id": "6bbe1fc5-66b9-4e25-8f2f-49ddf02c5efb",
   "metadata": {},
   "outputs": [],
   "source": [
    "from sklearn.preprocessing import MinMaxScaler\n",
    "import numpy as np\n",
    "import pandas as pd\n",
    "\n",
    "df = pd.read_csv('C:\\\\Users\\\\berat\\\\OneDrive\\\\Masaüstü\\\\diabetes.csv')\n",
    "X = df.drop(columns=['Outcome'])\n",
    "y = df['Outcome']\n",
    "\n",
    "scaler = MinMaxScaler()\n",
    "X_normalized = scaler.fit_transform(X)\n",
    "\"\"\"\"\n",
    "np.set_printoptions(threshold=np.inf)\n",
    "print(X_normalized)\n",
    "\"\"\"\n",
    "normalized_df = pd.concat([pd.DataFrame(X_normalized, columns=X.columns), y.reset_index(drop=True)], axis=1)\n",
    "\n",
    "normalized_df.to_csv('normalized_data.csv', index=False)\n"
   ]
  },
  {
   "cell_type": "code",
   "execution_count": null,
   "id": "f81a5233-a5c8-43f1-b484-c61d1460204c",
   "metadata": {},
   "outputs": [],
   "source": []
  },
  {
   "cell_type": "code",
   "execution_count": null,
   "id": "9b84bbcb-482d-4fdd-93ea-777f4182705b",
   "metadata": {},
   "outputs": [],
   "source": []
  }
 ],
 "metadata": {
  "kernelspec": {
   "display_name": "Python 3 (ipykernel)",
   "language": "python",
   "name": "python3"
  },
  "language_info": {
   "codemirror_mode": {
    "name": "ipython",
    "version": 3
   },
   "file_extension": ".py",
   "mimetype": "text/x-python",
   "name": "python",
   "nbconvert_exporter": "python",
   "pygments_lexer": "ipython3",
   "version": "3.11.7"
  }
 },
 "nbformat": 4,
 "nbformat_minor": 5
}
