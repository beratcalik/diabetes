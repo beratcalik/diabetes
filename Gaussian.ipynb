{
 "cells": [
  {
   "cell_type": "code",
   "execution_count": 2,
   "id": "04750c9f-2228-4e59-a9ad-92837c2711b2",
   "metadata": {},
   "outputs": [
    {
     "name": "stdout",
     "output_type": "stream",
     "text": [
      "Test setinde doğruluk: 0.7662337662337663\n",
      "En iyi hiperparametreler: {'var_smoothing': 1e-07, 'priors': [0.8, 0.2]} \n",
      "\n",
      "Eğitim Seti Sınıflandırma Raporu:\n",
      "              precision    recall  f1-score   support\n",
      "\n",
      "           0       0.76      0.90      0.83       401\n",
      "           1       0.72      0.47      0.57       213\n",
      "\n",
      "    accuracy                           0.75       614\n",
      "   macro avg       0.74      0.69      0.70       614\n",
      "weighted avg       0.75      0.75      0.74       614\n",
      "\n",
      "\n",
      "Test Seti Sınıflandırma Raporu:\n",
      "              precision    recall  f1-score   support\n",
      "\n",
      "           0       0.79      0.87      0.83        99\n",
      "           1       0.71      0.58      0.64        55\n",
      "\n",
      "    accuracy                           0.77       154\n",
      "   macro avg       0.75      0.73      0.73       154\n",
      "weighted avg       0.76      0.77      0.76       154\n",
      "\n"
     ]
    }
   ],
   "source": [
    "import pandas as pd\n",
    "from sklearn.model_selection import train_test_split, RandomizedSearchCV\n",
    "from sklearn.naive_bayes import GaussianNB\n",
    "from sklearn.metrics import classification_report\n",
    "\n",
    "# Veri kümesini oku\n",
    "dataset = pd.read_csv('C:\\\\Users\\\\berat\\\\OneDrive\\\\Masaüstü\\\\diabetes.csv')\n",
    "\n",
    "# 'Unnamed: 0' sütununu düşür\n",
    "if 'Unnamed: 0' in dataset.columns:\n",
    "    dataset.drop([\"Unnamed: 0\"], axis=1, inplace=True)\n",
    "\n",
    "# Bağımsız ve bağımlı değişkenleri ayır\n",
    "x = dataset.drop([\"Outcome\"], axis=1)\n",
    "y = dataset[\"Outcome\"]\n",
    "\n",
    "# Eğitim ve test setlerine ayır\n",
    "x_train, x_test, y_train, y_test = train_test_split(x, y, test_size=0.2, random_state=42)\n",
    "\n",
    "# Gaussian Naive Bayes modeli için hiperparametre aralığı\n",
    "param_dist = {\n",
    "    'priors': [[0.5, 0.5], [0.3, 0.7], [0.8, 0.2]],\n",
    "    'var_smoothing': [1e-9, 1e-8, 1e-7]\n",
    "}\n",
    "\n",
    "# Gaussian Naive Bayes modeli oluştur\n",
    "nb = GaussianNB()\n",
    "\n",
    "# Randomized Search CV ile en iyi modeli bul\n",
    "rs = RandomizedSearchCV(estimator=nb, param_distributions=param_dist, n_iter=5, cv=5, random_state=42)\n",
    "rs.fit(x_train, y_train)\n",
    "\n",
    "# En iyi modeli seç\n",
    "best_model = rs.best_estimator_\n",
    "\n",
    "# Test setinde doğruluk skorunu hesapla ve yazdır\n",
    "accuracy = best_model.score(x_test, y_test)\n",
    "print(\"Test setinde doğruluk:\", accuracy)\n",
    "\n",
    "# Eğitim ve test setleri üzerinde tahmin yap\n",
    "y_train_pred = best_model.predict(x_train)\n",
    "y_test_pred = best_model.predict(x_test)\n",
    "\n",
    "# En iyi modelin hiperparametrelerini ve sınıflandırma raporlarını yazdır\n",
    "print(\"En iyi hiperparametreler:\", rs.best_params_, \"\\n\")\n",
    "print(\"Eğitim Seti Sınıflandırma Raporu:\")\n",
    "print(classification_report(y_train, y_train_pred))\n",
    "print(\"\\nTest Seti Sınıflandırma Raporu:\")\n",
    "print(classification_report(y_test, y_test_pred))\n"
   ]
  },
  {
   "cell_type": "code",
   "execution_count": null,
   "id": "460dd753-10b5-4a9c-a13f-5a2e0b6559b3",
   "metadata": {},
   "outputs": [],
   "source": []
  }
 ],
 "metadata": {
  "kernelspec": {
   "display_name": "Python 3 (ipykernel)",
   "language": "python",
   "name": "python3"
  },
  "language_info": {
   "codemirror_mode": {
    "name": "ipython",
    "version": 3
   },
   "file_extension": ".py",
   "mimetype": "text/x-python",
   "name": "python",
   "nbconvert_exporter": "python",
   "pygments_lexer": "ipython3",
   "version": "3.11.7"
  }
 },
 "nbformat": 4,
 "nbformat_minor": 5
}
